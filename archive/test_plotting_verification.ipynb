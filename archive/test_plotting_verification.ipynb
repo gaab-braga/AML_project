{
 "cells": [
  {
   "cell_type": "markdown",
   "id": "c5eca196",
   "metadata": {},
   "source": [
    "# Teste: Verificar se a Função de Plotagem Consegue Plotar os 3 Modelos\n",
    "\n",
    "Este notebook testa se a função `plot_threshold_comparison_all_models_optimized` consegue plotar corretamente os gráficos para os 3 modelos AML (XGBoost, LightGBM, Random Forest)."
   ]
  },
  {
   "cell_type": "markdown",
   "id": "d359b355",
   "metadata": {},
   "source": [
    "## 1. Importar Bibliotecas Necessárias"
   ]
  },
  {
   "cell_type": "code",
   "execution_count": null,
   "id": "be4ec108",
   "metadata": {},
   "outputs": [],
   "source": [
    "import sys\n",
    "import os\n",
    "sys.path.append(os.path.join(os.path.dirname(''), '..'))\n",
    "\n",
    "import pandas as pd\n",
    "import numpy as np\n",
    "import matplotlib.pyplot as plt\n",
    "from sklearn.metrics import confusion_matrix\n",
    "from src.features.aml_plotting import plot_threshold_comparison_all_models_optimized\n",
    "\n",
    "# Mock EXPERIMENT_CONFIG\n",
    "EXPERIMENT_CONFIG = {\n",
    "    'business_metrics': {\n",
    "        'cost_benefit_ratio': {\n",
    "            'fp_cost': 1,\n",
    "            'fn_cost': 100\n",
    "        },\n",
    "        'regulatory_requirements': {\n",
    "            'min_recall': 0.8,\n",
    "            'max_false_positive_rate': 0.05\n",
    "        }\n",
    "    }\n",
    "}\n",
    "\n",
    "print(\"✅ Bibliotecas importadas com sucesso!\")"
   ]
  }
 ],
 "metadata": {
  "language_info": {
   "name": "python"
  }
 },
 "nbformat": 4,
 "nbformat_minor": 5
}
