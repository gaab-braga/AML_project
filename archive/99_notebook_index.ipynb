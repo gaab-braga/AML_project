{
 "cells": [
  {
   "cell_type": "markdown",
   "id": "37bedd1c",
   "metadata": {},
   "source": [
    "# 99 · Notebook Index\n",
    "## Índice e Sumário do Projeto AML\n",
    "\n",
    "**TL;DR:** Este projeto demonstra detecção de lavagem de dinheiro usando ML, com foco em compliance e storytelling.\n",
    "\n",
    "### Links para Notebooks\n",
    "- [01_EDA_e_DataStory](01_EDA_e_DataStory.ipynb): Exploração de dados\n",
    "- [02_FeatureEngineering_e_Pipelines](02_FeatureEngineering_e_Pipelines.ipynb): Engenharia de features\n",
    "- [03_Modelagem_e_Avaliacao](03_Modelagem_e_Avaliacao.ipynb): Modelagem e avaliação\n",
    "- [04_Dashboard_e_Demo](04_Dashboard_e_Demo.ipynb): Dashboard demo\n",
    "\n",
    "### Descrição Curta\n",
    "- 01: Entenda os dados e insights iniciais.\n",
    "- 02: Como criamos features robustas.\n",
    "- 03: Treino e validação de modelos.\n",
    "- 04: Demonstração interativa."
   ]
  }
 ],
 "metadata": {
  "language_info": {
   "name": "python"
  }
 },
 "nbformat": 4,
 "nbformat_minor": 5
}
