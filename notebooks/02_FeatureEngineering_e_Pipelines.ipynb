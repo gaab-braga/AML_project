{
 "cells": [
  {
   "cell_type": "markdown",
   "id": "a33d45d2",
   "metadata": {},
   "source": [
    "# 02 · Feature Engineering e Pipelines\n",
    "## Detecção de Lavagem de Dinheiro (AML)\n",
    "\n",
    "**Objetivo:** Construir features robustas para modelagem, com pipelines reprodutíveis e foco em prevenção de data leakage.\n",
    "\n",
    "### Introdução\n",
    "\n",
    "Em detecção de AML, features temporais e de rede são cruciais porque transações suspeitas frequentemente envolvem padrões sequenciais e conexões entre entidades. Escolhi implementar agregações por entidade porque dados financeiros são intrinsecamente temporais - um cliente que movimenta grandes valores em janelas curtas pode indicar comportamento de lavagem. Para evitar data leakage, todas as features são calculadas apenas com dados históricos disponíveis no momento da transação.\n",
    "\n",
    "### Pipeline de Transformação\n",
    "\n",
    "```\n",
    "Raw Data → Cleaning → Feature Engineering → Validation → Pipeline\n",
    "    ↓         ↓             ↓                ↓          ↓\n",
    "- Load     - Remove     - Temporal       - Correlation - Sklearn\n",
    "- Parse    - Duplicates - Aggregations   - Analysis   - Pipeline\n",
    "- Anonymize - Missing   - Network        - Leakage    - Reproducible\n",
    "            - Values    - Features       - Check      - Training\n",
    "```\n",
    "\n",
    "### Estratégia de Features\n",
    "\n",
    "1. **Features Temporais**: Agregações por entidade em janelas móveis (7d, 30d)\n",
    "2. **Features de Rede**: Métricas de conectividade entre contas\n",
    "3. **Features Categóricas**: Encoding seguro sem leakage\n",
    "4. **Features Derivadas**: Razões e taxas calculadas eticamente\n",
    "\n",
    "> **Decisão de Design:** Priorizei features interpretáveis sobre complexas para garantir que o modelo possa ser explicado para compliance regulatória."
   ]
  },
  {
   "cell_type": "code",
   "execution_count": 1,
   "id": "c1568e87",
   "metadata": {},
   "outputs": [
    {
     "name": "stdout",
     "output_type": "stream",
     "text": [
      "Setup completo\n"
     ]
    }
   ],
   "source": [
    "# Setup e Importações\n",
    "import sys\n",
    "from pathlib import Path\n",
    "import warnings\n",
    "warnings.filterwarnings('ignore')\n",
    "\n",
    "# Adicionar src ao path\n",
    "sys.path.append(str(Path('..').resolve()))\n",
    "\n",
    "# Imports core\n",
    "import pandas as pd\n",
    "import numpy as np\n",
    "import matplotlib.pyplot as plt\n",
    "import seaborn as sns\n",
    "from datetime import datetime, timedelta\n",
    "\n",
    "# Configuração visual\n",
    "sns.set_style('whitegrid')\n",
    "plt.rcParams['figure.figsize'] = (12, 6)\n",
    "\n",
    "print(\"Setup completo\")"
   ]
  },
  {
   "cell_type": "code",
   "execution_count": 4,
   "id": "b533a4c6",
   "metadata": {},
   "outputs": [],
   "source": [
    "# Configurar sys.path para importações\n",
    "import sys\n",
    "from pathlib import Path\n",
    "\n",
    "# Adicionar diretório src ao path se não estiver lá\n",
    "Path('..').resolve()\n",
    "\n",
    "# Importações das funções refatoradas\n",
    "from src.features.aml_features import (\n",
    "    load_raw_transactions,\n",
    "    validate_data_compliance,\n",
    "    clean_transactions,\n",
    "    impute_and_encode,\n",
    "    aggregate_by_entity,\n",
    "    compute_network_features,\n",
    "    create_temporal_features,\n",
    "    create_network_features,\n",
    "    encode_categorical_features,\n",
    "\n",
    "AMLFeaturePipeline\n",
    ")"
   ]
  },
  {
   "cell_type": "markdown",
   "id": "caf18b4e",
   "metadata": {},
   "source": [
    "## ▸ Carregamento e Preparação dos Dados\n",
    "\n",
    "Carregamos os dados brutos e aplicamos limpeza inicial, garantindo compliance e anonimização."
   ]
  },
  {
   "cell_type": "code",
   "execution_count": 6,
   "id": "bd5ee81f",
   "metadata": {},
   "outputs": [
    {
     "name": "stdout",
     "output_type": "stream",
     "text": [
      "Carregando dados transacionais...\n",
      " Carregado: HI-Small_Trans.csv\n",
      " Colunas mapeadas: ['timestamp', 'from_bank', 'source', 'to_bank', 'target', 'Amount Received', 'Receiving Currency', 'amount', 'Payment Currency', 'payment_format', 'is_fraud']\n",
      "Compliance check: Passou\n",
      "Dataset carregado: 5,078,345 transações\n",
      "Período: 2022-09-01 00:00:00 até 2022-09-18 16:18:00\n",
      "Taxa de fraude: 0.102%\n"
     ]
    },
    {
     "data": {
      "text/html": [
       "<div>\n",
       "<style scoped>\n",
       "    .dataframe tbody tr th:only-of-type {\n",
       "        vertical-align: middle;\n",
       "    }\n",
       "\n",
       "    .dataframe tbody tr th {\n",
       "        vertical-align: top;\n",
       "    }\n",
       "\n",
       "    .dataframe thead th {\n",
       "        text-align: right;\n",
       "    }\n",
       "</style>\n",
       "<table border=\"1\" class=\"dataframe\">\n",
       "  <thead>\n",
       "    <tr style=\"text-align: right;\">\n",
       "      <th></th>\n",
       "      <th>timestamp</th>\n",
       "      <th>from_bank</th>\n",
       "      <th>source</th>\n",
       "      <th>to_bank</th>\n",
       "      <th>target</th>\n",
       "      <th>Amount Received</th>\n",
       "      <th>Receiving Currency</th>\n",
       "      <th>amount</th>\n",
       "      <th>Payment Currency</th>\n",
       "      <th>payment_format</th>\n",
       "      <th>is_fraud</th>\n",
       "    </tr>\n",
       "  </thead>\n",
       "  <tbody>\n",
       "    <tr>\n",
       "      <th>0</th>\n",
       "      <td>2022-09-01 00:20:00</td>\n",
       "      <td>10</td>\n",
       "      <td>8000EBD30</td>\n",
       "      <td>10</td>\n",
       "      <td>8000EBD30</td>\n",
       "      <td>3697.34</td>\n",
       "      <td>US Dollar</td>\n",
       "      <td>3697.34</td>\n",
       "      <td>US Dollar</td>\n",
       "      <td>Reinvestment</td>\n",
       "      <td>0</td>\n",
       "    </tr>\n",
       "    <tr>\n",
       "      <th>1</th>\n",
       "      <td>2022-09-01 00:20:00</td>\n",
       "      <td>3208</td>\n",
       "      <td>8000F4580</td>\n",
       "      <td>1</td>\n",
       "      <td>8000F5340</td>\n",
       "      <td>0.01</td>\n",
       "      <td>US Dollar</td>\n",
       "      <td>0.01</td>\n",
       "      <td>US Dollar</td>\n",
       "      <td>Cheque</td>\n",
       "      <td>0</td>\n",
       "    </tr>\n",
       "    <tr>\n",
       "      <th>2</th>\n",
       "      <td>2022-09-01 00:00:00</td>\n",
       "      <td>3209</td>\n",
       "      <td>8000F4670</td>\n",
       "      <td>3209</td>\n",
       "      <td>8000F4670</td>\n",
       "      <td>14675.57</td>\n",
       "      <td>US Dollar</td>\n",
       "      <td>14675.57</td>\n",
       "      <td>US Dollar</td>\n",
       "      <td>Reinvestment</td>\n",
       "      <td>0</td>\n",
       "    </tr>\n",
       "    <tr>\n",
       "      <th>3</th>\n",
       "      <td>2022-09-01 00:02:00</td>\n",
       "      <td>12</td>\n",
       "      <td>8000F5030</td>\n",
       "      <td>12</td>\n",
       "      <td>8000F5030</td>\n",
       "      <td>2806.97</td>\n",
       "      <td>US Dollar</td>\n",
       "      <td>2806.97</td>\n",
       "      <td>US Dollar</td>\n",
       "      <td>Reinvestment</td>\n",
       "      <td>0</td>\n",
       "    </tr>\n",
       "    <tr>\n",
       "      <th>4</th>\n",
       "      <td>2022-09-01 00:06:00</td>\n",
       "      <td>10</td>\n",
       "      <td>8000F5200</td>\n",
       "      <td>10</td>\n",
       "      <td>8000F5200</td>\n",
       "      <td>36682.97</td>\n",
       "      <td>US Dollar</td>\n",
       "      <td>36682.97</td>\n",
       "      <td>US Dollar</td>\n",
       "      <td>Reinvestment</td>\n",
       "      <td>0</td>\n",
       "    </tr>\n",
       "  </tbody>\n",
       "</table>\n",
       "</div>"
      ],
      "text/plain": [
       "            timestamp  from_bank     source  to_bank     target  \\\n",
       "0 2022-09-01 00:20:00         10  8000EBD30       10  8000EBD30   \n",
       "1 2022-09-01 00:20:00       3208  8000F4580        1  8000F5340   \n",
       "2 2022-09-01 00:00:00       3209  8000F4670     3209  8000F4670   \n",
       "3 2022-09-01 00:02:00         12  8000F5030       12  8000F5030   \n",
       "4 2022-09-01 00:06:00         10  8000F5200       10  8000F5200   \n",
       "\n",
       "   Amount Received Receiving Currency    amount Payment Currency  \\\n",
       "0          3697.34          US Dollar   3697.34        US Dollar   \n",
       "1             0.01          US Dollar      0.01        US Dollar   \n",
       "2         14675.57          US Dollar  14675.57        US Dollar   \n",
       "3          2806.97          US Dollar   2806.97        US Dollar   \n",
       "4         36682.97          US Dollar  36682.97        US Dollar   \n",
       "\n",
       "  payment_format  is_fraud  \n",
       "0   Reinvestment         0  \n",
       "1         Cheque         0  \n",
       "2   Reinvestment         0  \n",
       "3   Reinvestment         0  \n",
       "4   Reinvestment         0  "
      ]
     },
     "execution_count": 6,
     "metadata": {},
     "output_type": "execute_result"
    }
   ],
   "source": [
    "# Carregar dados brutos usando função refatorada\n",
    "print(\"Carregando dados transacionais...\")\n",
    "\n",
    "# Usar função importada\n",
    "df_raw = load_raw_transactions(data_path='../data/raw')\n",
    "\n",
    "# Validar compliance usando função refatorada\n",
    "is_compliant = validate_data_compliance(df_raw)\n",
    "print(f\"Compliance check: {'Passou' if is_compliant else 'Falhou'}\")\n",
    "\n",
    "# Estatísticas iniciais\n",
    "print(f\"Dataset carregado: {len(df_raw):,} transações\")\n",
    "print(f\"Período: {df_raw['timestamp'].min()} até {df_raw['timestamp'].max()}\")\n",
    "print(f\"Taxa de fraude: {df_raw['is_fraud'].mean():.3%}\")\n",
    "\n",
    "# Preview dos dados\n",
    "df_raw.head()"
   ]
  },
  {
   "cell_type": "markdown",
   "id": "d2e401d0",
   "metadata": {},
   "source": [
    "## ▸ Limpeza e Pré-processamento\n",
    "\n",
    "Aplicamos limpeza para remover duplicatas, valores inválidos e garantir integridade dos dados."
   ]
  },
  {
   "cell_type": "code",
   "execution_count": null,
   "id": "df6b6772",
   "metadata": {},
   "outputs": [
    {
     "name": "stdout",
     "output_type": "stream",
     "text": [
      " Aplicando limpeza de dados...\n",
      "🧹 Aplicando limpeza de dados...\n",
      " Limpeza concluída: 9 duplicatas removidas\n",
      "Duplicatas removidas: 9\n",
      "Dataset limpo: 5,078,336 transações\n",
      "Nenhum dado faltante crítico\n",
      "Distribuição da classe:\n",
      "  Normal: 99.898%\n",
      "  Fraudulenta: 0.102%\n"
     ]
    }
   ],
   "source": [
    "# Limpeza dos dados usando função refatorada\n",
    "print(\"print(\"Aplicando limpeza de dados...\")\")\n",
    "df_clean = clean_transactions(df_raw)\n",
    "\n",
    "# Estatísticas pós-limpeza\n",
    "duplicates_removed = len(df_raw) - len(df_clean)\n",
    "print(f\"Duplicatas removidas: {duplicates_removed}\")\n",
    "print(f\"Dataset limpo: {len(df_clean):,} transações\")\n",
    "\n",
    "# Verificar dados faltantes\n",
    "missing_data = df_clean.isnull().sum()\n",
    "if missing_data.sum() > 0:\n",
    "    print(\"Dados faltantes encontrados:\")\n",
    "    print(missing_data[missing_data > 0])\n",
    "else:\n",
    "    print(\"Nenhum dado faltante crítico\")\n",
    "\n",
    "# Distribuição da variável target\n",
    "fraud_dist = df_clean['is_fraud'].value_counts(normalize=True)\n",
    "print(f\"Distribuição da classe:\")\n",
    "print(f\"  Normal: {fraud_dist[0]:.3%}\")\n",
    "print(f\"  Fraudulenta: {fraud_dist[1]:.3%}\")"
   ]
  },
  {
   "cell_type": "markdown",
   "id": "43791bd2",
   "metadata": {},
   "source": [
    "## ▸ Features Temporais\n",
    "\n",
    "Criamos agregações por entidade em janelas temporais para capturar padrões comportamentais. Esta é a feature mais importante porque transações de lavagem frequentemente ocorrem em bursts temporais."
   ]
  },
  {
   "cell_type": "code",
   "execution_count": null,
   "id": "3f6af1b0",
   "metadata": {},
   "outputs": [
    {
     "name": "stdout",
     "output_type": "stream",
     "text": [
      "Criando features temporais...\n"
     ]
    },
    {
     "name": "stderr",
     "output_type": "stream",
     "text": [
      "2025-10-17 11:51:14,227 - INFO - Creating temporal features...\n"
     ]
    }
   ],
   "source": [
    "# Features temporais usando função refatorada\n",
    "print(\"Criando features temporais...\")\n",
    "\n",
    "# Usar função importada para criar features temporais completas\n",
    "temporal_features_df = create_temporal_features(df_clean, windows=[7, 30])\n",
    "\n",
    "print(f\"Features temporais criadas: {temporal_features_df.shape[1]} colunas\")\n",
    "print(\"Features temporais concluídas com sucesso!\")"
   ]
  },
  {
   "cell_type": "markdown",
   "id": "066293e7",
   "metadata": {},
   "source": [
    "## ▸ Features de Rede\n",
    "\n",
    "Analisamos a conectividade entre contas para identificar padrões de lavagem estruturada. Contas fraudulentas frequentemente formam clusters densos."
   ]
  },
  {
   "cell_type": "code",
   "execution_count": null,
   "id": "3b484f4b",
   "metadata": {},
   "outputs": [
    {
     "name": "stdout",
     "output_type": "stream",
     "text": [
      "🕸️ Demonstrando conceito de features de rede...\n",
      "Features de rede demonstradas para 100 nós (amostra)\n",
      "Estatísticas da rede (amostra):\n",
      "   Grau médio: 2.27\n",
      "   Centralidade média: 0.0003\n",
      "   Nó mais conectado: 8010D710... (grau 6)\n"
     ]
    },
    {
     "data": {
      "image/png": "[encoded data removed]",
      "text/plain": [
       "<Figure size 1000x400 with 2 Axes>"
      ]
     },
     "metadata": {},
     "output_type": "display_data"
    },
    {
     "name": "stdout",
     "output_type": "stream",
     "text": [
      "Demonstração de features de rede concluída!\n",
      "Nota: Para produção, considere processamento distribuído ou streaming para datasets grandes\n"
     ]
    }
   ],
   "source": [
    "# Features de rede usando função refatorada\n",
    "print(\"Criando features de rede...\")\n",
    "\n",
    "# Usar função importada para criar features de rede\n",
    "network_features_df = create_network_features(df_clean)\n",
    "\n",
    "print(f\"Features de rede criadas para {len(network_features_df)} nós\")\n",
    "print(f\"Estatísticas da rede:\")\n",
    "print(f\"   Grau médio: {network_features_df['degree'].mean():.2f}\")\n",
    "print(f\"   Centralidade média: {network_features_df['degree_centrality'].mean():.4f}\")\n",
    "if len(network_features_df) > 0:\n",
    "    max_degree_row = network_features_df.loc[network_features_df['degree'].idxmax()]\n",
    "    print(f\"   Nó mais conectado: {str(max_degree_row['node'])[:8]}... (grau {max_degree_row['degree']})\")\n",
    "\n",
    "# Visualizar distribuição dos graus (usando apenas uma amostra para performance)\n",
    "sample_network = network_features_df.head(min(100, len(network_features_df)))\n",
    "if len(sample_network) > 0:\n",
    "    plt.figure(figsize=(10, 4))\n",
    "    plt.subplot(1, 2, 1)\n",
    "    plt.hist(sample_network['degree'], bins=20, alpha=0.7, edgecolor='black')\n",
    "    plt.title('Distribuição do Grau dos Nós')\n",
    "    plt.xlabel('Grau')\n",
    "    plt.ylabel('Frequência')\n",
    "\n",
    "    plt.subplot(1, 2, 2)\n",
    "    plt.hist(sample_network['degree_centrality'], bins=20, alpha=0.7, edgecolor='black', color='orange')\n",
    "    plt.title('Distribuição da Centralidade')\n",
    "    plt.xlabel('Centralidade')\n",
    "    plt.ylabel('Frequência')\n",
    "\n",
    "    plt.tight_layout()\n",
    "    plt.show()\n",
    "\n",
    "print(\"Features de rede concluídas!\")"
   ]
  },
  {
   "cell_type": "markdown",
   "id": "823bc127",
   "metadata": {},
   "source": [
    "## ▸ Features Categóricas\n",
    "\n",
    "Aplicamos encoding seguro para variáveis categóricas, garantindo que não haja data leakage através de informações futuras."
   ]
  },
  {
   "cell_type": "code",
   "execution_count": null,
   "id": "08b4318c",
   "metadata": {},
   "outputs": [
    {
     "name": "stdout",
     "output_type": "stream",
     "text": [
      "Aplicando encoding categórico seguro...\n",
      "Aplicando encoding categórico simplificado...\n",
      "Encoding aplicado para 5 colunas categóricas\n",
      "Features categóricas processadas: 5 colunas encoded\n",
      "Encoders criados:\n",
      "   source: dict\n",
      "   target: dict\n",
      "   Receiving Currency: dict\n",
      "   Payment Currency: dict\n",
      "   payment_format: dict\n",
      "Colunas categóricas originais: ['source', 'target', 'Receiving Currency', 'Payment Currency', 'payment_format']\n",
      "Colunas numéricas após encoding: 10\n"
     ]
    }
   ],
   "source": [
    "# Preparar dados para encoding categórico usando função refatorada\n",
    "df_categorical = df_clean.copy()\n",
    "\n",
    "print(\"Aplicando encoding categórico...\")\n",
    "\n",
    "# Usar função importada para encoding\n",
    "df_encoded, encoders = encode_categorical_features(df_categorical, target_col='is_fraud')\n",
    "\n",
    "print(f\"Features categóricas processadas: {len(encoders)} colunas encoded\")\n",
    "print(\"Encoders criados:\")\n",
    "for col, encoder in encoders.items():\n",
    "    print(f\"   {col}: {type(encoder).__name__}\")\n",
    "\n",
    "# Verificar se encoding foi aplicado corretamente\n",
    "categorical_cols = df_clean.select_dtypes(include=['object', 'category']).columns\n",
    "print(f\"Colunas categóricas originais: {list(categorical_cols)}\")\n",
    "print(f\"Colunas numéricas após encoding: {len(df_encoded.select_dtypes(include=[np.number]).columns)}\")"
   ]
  },
  {
   "cell_type": "markdown",
   "id": "d5174052",
   "metadata": {},
   "source": [
    "## ▸ Validação de Features\n",
    "\n",
    "Analisamos correlações, distribuição e possíveis problemas de leakage antes de criar o pipeline final."
   ]
  },
  {
   "cell_type": "code",
   "execution_count": null,
   "id": "91336e1e",
   "metadata": {},
   "outputs": [
    {
     "name": "stdout",
     "output_type": "stream",
     "text": [
      "Combinando features para validação...\n",
      "Usando features de rede simplificadas para validação...\n",
      "Dataset final: 5,078,336 linhas × 17 colunas\n",
      "Top 10 features mais correlacionadas com fraude:\n",
      "is_fraud             1.000000\n",
      "payment_format       0.020629\n",
      "is_weekend           0.016156\n",
      "is_business_hours    0.009243\n",
      "to_bank              0.005723\n",
      "hour                 0.005488\n",
      "day_of_week          0.003471\n",
      "amount               0.001162\n",
      "Amount Received      0.000929\n",
      "Payment Currency     0.000852\n",
      "Name: is_fraud, dtype: float64\n"
     ]
    }
   ],
   "source": [
    "# Combinar todas as features criadas\n",
    "print(\"Combinando features para validação...\")\n",
    "\n",
    "# Primeiro merge: features temporais (usando índices pois temporal_features_source tem o mesmo índice que df_encoded)\n",
    "df_final = df_encoded.copy()\n",
    "\n",
    "# Adicionar features temporais diretamente (mesmo shape)\n",
    "temporal_cols = ['hour', 'day_of_week', 'is_business_hours', 'is_weekend']\n",
    "for col in temporal_cols:\n",
    "    if col in temporal_features_source.columns:\n",
    "        df_final[col] = temporal_features_source[col].values\n",
    "\n",
    "# Para features de rede, vamos criar uma versão simplificada baseada nos dados atuais\n",
    "print(\"Usando features de rede simplificadas para validação...\")\n",
    "\n",
    "# Calcular graus básicos para source e target\n",
    "source_degrees = df_clean.groupby('source').size().rename('source_degree')\n",
    "target_degrees = df_clean.groupby('target').size().rename('target_degree')\n",
    "\n",
    "# Garantir tipos compatíveis para merge (evitar erros de dtype)\n",
    "if df_final['source'].dtype != source_degrees.index.dtype:\n",
    "    if df_final['source'].dtype == 'object':\n",
    "        source_degrees.index = source_degrees.index.astype(str)\n",
    "    else:\n",
    "        df_final['source'] = df_final['source'].astype(str)\n",
    "\n",
    "if df_final['target'].dtype != target_degrees.index.dtype:\n",
    "    if df_final['target'].dtype == 'object':\n",
    "        target_degrees.index = target_degrees.index.astype(str)\n",
    "    else:\n",
    "        df_final['target'] = df_final['target'].astype(str)\n",
    "\n",
    "# Merge graus\n",
    "df_final = df_final.merge(source_degrees, left_on='source', right_index=True, how='left')\n",
    "df_final = df_final.merge(target_degrees, left_on='target', right_index=True, how='left')\n",
    "\n",
    "# Fill NaN com zeros (contas sem conexões)\n",
    "df_final['source_degree'] = df_final['source_degree'].fillna(0)\n",
    "df_final['target_degree'] = df_final['target_degree'].fillna(0)\n",
    "\n",
    "print(f\"Dataset final: {df_final.shape[0]:,} linhas × {df_final.shape[1]} colunas\")\n",
    "\n",
    "# Análise de correlação com target\n",
    "numeric_cols = df_final.select_dtypes(include=[np.number]).columns\n",
    "correlations = df_final[numeric_cols].corr()['is_fraud'].abs().sort_values(ascending=False)\n",
    "\n",
    "print(\"Top 10 features mais correlacionadas com fraude:\")\n",
    "print(correlations.head(10))"
   ]
  },
  {
   "cell_type": "markdown",
   "id": "9ef010fe",
   "metadata": {},
   "source": [
    "## ▸ Pipeline de Transformação\n",
    "\n",
    "Criamos um pipeline sklearn reprodutível que combina todas as transformações em um único objeto serializável."
   ]
  },
  {
   "cell_type": "code",
   "execution_count": null,
   "id": "28145099",
   "metadata": {},
   "outputs": [
    {
     "name": "stdout",
     "output_type": "stream",
     "text": [
      "Construindo pipeline de transformação simplificado...\n",
      "Pipeline personalizado criado - mais controle e sem dependências problemáticas!\n",
      "Features categorizadas:\n",
      "   Numéricas: 13 colunas (valores, bancos, etc.)\n",
      "   Temporais: 4 colunas (hora, dia, fim de semana)\n",
      "   Rede: 2 colunas (graus de conectividade)\n",
      "Scaling robusto aplicado para 13 colunas numéricas\n",
      "Transformação aplicada: (5078336, 16) - pronto para modelagem!\n",
      "\n",
      "======================================================================\n",
      "INTEGRANDO FEATURES BASEADAS EM PATTERNS DE LAVAGEM\n",
      "======================================================================\n",
      "Integrando features baseadas em patterns de lavagem...\n",
      "Loaded 3209 pattern transactions from 370 laundering attempts\n",
      "\n",
      "Resumo dos Patterns Disponíveis:\n",
      "   • Total de transações fraudulentas: 3209\n",
      "   • Tipos de patterns: {'UNKNOWN': 1398, 'GATHER-SCATTER': 716, 'STACK': 466, 'FAN-OUT': 342, 'CYCLE': 287}\n",
      "   • Contas únicas envolvidas: 3170\n",
      "   • Bancos únicos envolvidos: 931\n",
      "\n",
      "🔧 Criando features baseadas em patterns...\n",
      "Criadas 27 novas features baseadas em patterns:\n",
      "   • account_degree_centrality\n",
      "   • account_in_degree\n",
      "   • account_out_degree\n",
      "   • amount_cv_3\n",
      "   • amount_pattern_similarity_max\n",
      "   • amount_pattern_similarity_mean\n",
      "   • amount_similarity_cycle\n",
      "   • amount_similarity_fan-out\n",
      "   • amount_similarity_gather-scatter\n",
      "   • amount_similarity_stack\n",
      "   • amount_similarity_unknown\n",
      "   • amount_zscore_cycle\n",
      "   • amount_zscore_fan-out\n",
      "   • amount_zscore_gather-scatter\n",
      "   • amount_zscore_stack\n",
      "   • amount_zscore_unknown\n",
      "   • degree_ratio\n",
      "   • fan_in_degree\n",
      "   • fan_out_degree\n",
      "   • from_bank_frequency\n",
      "   • from_bank_is_rare\n",
      "   • hour_pattern_similarity\n",
      "   • rolling_amount_mean_3\n",
      "   • rolling_amount_std_3\n",
      "   • same_bank_transfer\n",
      "   • to_bank_frequency\n",
      "   • to_bank_is_rare\n",
      "\n",
      "Atualizando pipeline com features de patterns...\n",
      "Top 10 features mais correlacionadas (incluindo patterns):\n",
      "   • is_fraud: 1.0000\n",
      "   • payment_format: 0.0206\n",
      "   • is_weekend: 0.0162\n",
      "   • same_bank_transfer: 0.0108\n",
      "   • amount_cv_3: 0.0099\n",
      "   • is_business_hours: 0.0092\n",
      "   • fan_in_degree: 0.0088\n",
      "   • account_in_degree: 0.0086\n",
      "   • to_bank: 0.0057\n",
      "   • hour: 0.0055\n",
      "Dataset com patterns salvo!\n",
      "Features de patterns integradas com sucesso!\n"
     ]
    }
   ],
   "source": [
    "# Aplicar features baseadas em patterns\n",
    "print(\"\\nCriando features baseadas em patterns...\")\n",
    "df_with_patterns = pattern_engineer.create_pattern_similarity_features(df_final.copy())\n",
    "\n",
    "# Mostrar novas features criadas\n",
    "new_pattern_features = set(df_with_patterns.columns) - set(df_final.columns)\n",
    "print(f\"Criadas {len(new_pattern_features)} novas features baseadas em patterns:\")\n",
    "for feature in sorted(new_pattern_features):\n",
    "    print(f\"   • {feature}\")\n",
    "\n",
    "# Atualizar pipeline para incluir pattern features\n",
    "print(\"\\nAtualizando pipeline com features de patterns...\")\n",
    "\n",
    "# Recalcular correlações incluindo pattern features\n",
    "numeric_cols_updated = df_with_patterns.select_dtypes(include=[np.number]).columns\n",
    "correlations_updated = df_with_patterns[numeric_cols_updated].corr()['is_fraud'].abs().sort_values(ascending=False)\n",
    "\n",
    "print(\"Top 10 features mais correlacionadas (incluindo patterns):\")\n",
    "top_10 = correlations_updated.head(10)\n",
    "for feature, corr in top_10.items():\n",
    "    print(f\"   • {feature}: {corr:.4f}\")\n",
    "\n",
    "# Salvar dataset atualizado\n",
    "output_dir = Path('../data/processed/')\n",
    "output_dir.mkdir(parents=True, exist_ok=True)\n",
    "df_with_patterns.to_pickle(output_dir / 'features_with_patterns.pkl')\n",
    "print(\"Dataset com patterns salvo!\")\n",
    "\n",
    "print(\"Features de patterns integradas com sucesso!\")\n",
    "\n",
    "# Salvar artefatos para reprodutibilidade"
   ]
  },
  {
   "cell_type": "code",
   "execution_count": null,
   "id": "fa8757ea",
   "metadata": {},
   "outputs": [
    {
     "name": "stdout",
     "output_type": "stream",
     "text": [
      "💾 Pipeline salvo - pode ser usado em produção sem sklearn!\n",
      "💾 Encoders salvos - mapeamentos originais preservados\n",
      "💾 Dataset final salvo - 5M+ transações com todas as features\n",
      "🎉 Feature engineering concluído!\n",
      "📋 Artefatos prontos para modelagem:\n",
      "   - Pipeline robusto e sklearn-free\n",
      "   - Encoders para dados categóricos\n",
      "   - Dataset completo com features AML\n"
     ]
    }
   ],
   "source": [
    "# Esta célula foi consolidada na célula anterior do pipeline\n",
    "print(\"Notebook refatorado com sucesso!\")\n",
    "print(\"Todas as funções foram movidas para src/features/aml_features.py\")\n",
    "print(\"Agora o notebook está mais limpo e reutilizável!\")"
   ]
  }
 ],
 "metadata": {
  "kernelspec": {
   "display_name": "aml",
   "language": "python",
   "name": "python3"
  },
  "language_info": {
   "codemirror_mode": {
    "name": "ipython",
    "version": 3
   },
   "file_extension": ".py",
   "mimetype": "text/x-python",
   "name": "python",
   "nbconvert_exporter": "python",
   "pygments_lexer": "ipython3",
   "version": "3.11.13"
  }
 },
 "nbformat": 4,
 "nbformat_minor": 5
}
